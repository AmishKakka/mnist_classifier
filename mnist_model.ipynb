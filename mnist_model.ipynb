{
 "cells": [
  {
   "cell_type": "code",
   "execution_count": 1,
   "metadata": {},
   "outputs": [],
   "source": [
    "import pandas as pd\n",
    "import numpy as np\n",
    "import matplotlib.pyplot as plt\n",
    "import tensorflow as tf\n",
    "from sklearn.model_selection import train_test_split\n",
    "from PIL import Image, ImageOps\n",
    "from sklearn.metrics import *"
   ]
  },
  {
   "cell_type": "code",
   "execution_count": 2,
   "metadata": {},
   "outputs": [
    {
     "name": "stdout",
     "output_type": "stream",
     "text": [
      "Normalized input data shape:  (42000, 28, 28, 1)\n"
     ]
    }
   ],
   "source": [
    "classes = 10\n",
    "\n",
    "dataset = pd.read_csv(r\"C:\\Users\\amish\\Desktop\\PYTHON\\Deep Learning\\digit-recognizer\\train.csv\")\n",
    "\n",
    "pixels_X = dataset.loc[:,'pixel0':'pixel783']\n",
    "labels_Y = dataset.loc[:,'label']\n",
    "\n",
    "X = np.array(pixels_X, dtype=int)\n",
    "Y = np.array(labels_Y)\n",
    "X.shape = (X.shape[0],28,28,1)\n",
    "Y.shape = (Y.shape[0],1)\n",
    "\n",
    "dataset_test = pd.read_csv(r\"C:\\Users\\amish\\Desktop\\PYTHON\\Deep Learning\\digit-recognizer\\test.csv\")\n",
    "\n",
    "pixels_X_test = dataset_test.loc[:]\n",
    "X_test = np.array(pixels_X_test, dtype=int)\n",
    "X_test.shape = (X_test.shape[0],28,28,1)\n",
    "\n",
    "def one_hot_encoding(y):\n",
    "    y_hot = np.zeros((y.shape[0], 10))\n",
    "    count=0\n",
    "    for c in y:\n",
    "        y_hot[count][c] = 1\n",
    "        count += 1\n",
    "    return y_hot\n",
    "\n",
    "def array_to_image(arr):\n",
    "    s = arr.shape[0]\n",
    "    arr.shape = (s,s)\n",
    "    data = Image.fromarray(arr)\n",
    "    data.show()\n",
    "\n",
    "#array_to_image(X[1234][:])\n",
    "#print(Y[1234])\n",
    "\n",
    "Y_encoded = one_hot_encoding(Y)\n",
    "#print(Y_encoded)\n",
    "\n",
    "\n",
    "# Rescaling the image pixels to 0-1\n",
    "X_norm = X / 255.0\n",
    "print(\"Normalized input data shape: \", X_norm.shape)"
   ]
  },
  {
   "cell_type": "code",
   "execution_count": 3,
   "metadata": {},
   "outputs": [
    {
     "name": "stdout",
     "output_type": "stream",
     "text": [
      "Training data size:  (37800, 28, 28, 1)\n",
      "Validation data size:  (4200, 28, 28, 1)\n"
     ]
    }
   ],
   "source": [
    "X_train, X_val, Y_train, Y_val = train_test_split(X_norm, Y_encoded, test_size=0.1, shuffle=True)\n",
    "\n",
    "print(\"Training data size: \", X_train.shape)\n",
    "print(\"Validation data size: \",X_val.shape)"
   ]
  },
  {
   "cell_type": "code",
   "execution_count": 25,
   "metadata": {},
   "outputs": [
    {
     "name": "stdout",
     "output_type": "stream",
     "text": [
      "Model: \"mnist_model\"\n",
      "_________________________________________________________________\n",
      " Layer (type)                Output Shape              Param #   \n",
      "=================================================================\n",
      " image_input (InputLayer)    [(None, 28, 28, 1)]       0         \n",
      "                                                                 \n",
      " Conv2D_1 (Conv2D)           (None, 28, 28, 16)        80        \n",
      "                                                                 \n",
      " AvgPool_1 (AveragePooling2D  (None, 14, 14, 16)       0         \n",
      " )                                                               \n",
      "                                                                 \n",
      " Conv2D_2 (Conv2D)           (None, 12, 12, 32)        4640      \n",
      "                                                                 \n",
      " maxPool_1 (MaxPooling2D)    (None, 6, 6, 32)          0         \n",
      "                                                                 \n",
      " Conv2D_3 (Conv2D)           (None, 6, 6, 32)          9248      \n",
      "                                                                 \n",
      " AvgPool_2 (AveragePooling2D  (None, 3, 3, 32)         0         \n",
      " )                                                               \n",
      "                                                                 \n",
      " Conv2D_4 (Conv2D)           (None, 3, 3, 16)          4624      \n",
      "                                                                 \n",
      " maxPool_2 (MaxPooling2D)    (None, 1, 1, 16)          0         \n",
      "                                                                 \n",
      " flatten_13 (Flatten)        (None, 16)                0         \n",
      "                                                                 \n",
      " Dense_1 (Dense)             (None, 128)               2176      \n",
      "                                                                 \n",
      " Dense_2 (Dense)             (None, 64)                8256      \n",
      "                                                                 \n",
      " Output_layer (Dense)        (None, 10)                650       \n",
      "                                                                 \n",
      "=================================================================\n",
      "Total params: 29,674\n",
      "Trainable params: 29,674\n",
      "Non-trainable params: 0\n",
      "_________________________________________________________________\n",
      "None\n"
     ]
    }
   ],
   "source": [
    "# Initializing kernels to random values using a normal distribution.\n",
    "initializer = tf.keras.initializers\n",
    "layers = tf.keras.layers\n",
    "\n",
    "# Layer 1 (Input layer)\n",
    "mnist_input = tf.keras.Input(shape=(28,28,1), name='image_input')\n",
    "\n",
    "# Layer 2\n",
    "x = layers.Conv2D(16, 2, activation='sigmoid', name='Conv2D_1', padding='same')(mnist_input)      \n",
    "x = layers.AveragePooling2D(pool_size=(2,2), name='AvgPool_1')(x)               \n",
    "x = layers.Conv2D(32, 3, activation='sigmoid', name='Conv2D_2')(x)                \n",
    "x = layers.MaxPool2D(pool_size=(2,2), name='maxPool_1')(x)                                                         \n",
    "\n",
    "# Layer 3\n",
    "x = layers.Conv2D(32, 3, activation='relu', name='Conv2D_3', padding='same')(x)\n",
    "x = layers.AveragePooling2D(pool_size=(2,2), name='AvgPool_2', padding='same')(x) \n",
    "x = layers.Conv2D(16, 3, activation='relu', name='Conv2D_4', padding='same')(x)                \n",
    "x = layers.MaxPool2D(pool_size=(2,2), name='maxPool_2')(x)                                                         \n",
    "\n",
    "# Layer 4\n",
    "x = layers.Flatten()(x)   \n",
    "x = layers.Dense(128, activation='relu', name='Dense_1')(x)\n",
    "x = layers.Dense(64, activation='relu', name='Dense_2')(x)    \n",
    "\n",
    "# Layer 5\n",
    "output = layers.Dense(10, activation='softmax', name='Output_layer')(x)\n",
    "\n",
    "\n",
    "\n",
    "model = tf.keras.Model(mnist_input, output, name='mnist_model')\n",
    "model.compile(optimizer='adam',\n",
    "              loss=tf.keras.losses.CategoricalCrossentropy(),\n",
    "              metrics=['accuracy', 'mse'])\n",
    "\n",
    "print(model.summary())"
   ]
  },
  {
   "cell_type": "code",
   "execution_count": 26,
   "metadata": {},
   "outputs": [
    {
     "name": "stdout",
     "output_type": "stream",
     "text": [
      "Epoch 1/10\n",
      "886/886 [==============================] - 18s 19ms/step - loss: 1.8393 - accuracy: 0.3047 - mse: 0.0747 - val_loss: 0.7104 - val_accuracy: 0.7693 - val_mse: 0.0332\n",
      "Epoch 2/10\n",
      "886/886 [==============================] - 15s 17ms/step - loss: 0.4442 - accuracy: 0.8497 - mse: 0.0216 - val_loss: 0.2736 - val_accuracy: 0.9120 - val_mse: 0.0132\n",
      "Epoch 3/10\n",
      "886/886 [==============================] - 17s 20ms/step - loss: 0.2274 - accuracy: 0.9280 - mse: 0.0109 - val_loss: 0.1965 - val_accuracy: 0.9378 - val_mse: 0.0093\n",
      "Epoch 4/10\n",
      "886/886 [==============================] - 17s 20ms/step - loss: 0.1691 - accuracy: 0.9460 - mse: 0.0082 - val_loss: 0.1389 - val_accuracy: 0.9558 - val_mse: 0.0066\n",
      "Epoch 5/10\n",
      "886/886 [==============================] - 17s 19ms/step - loss: 0.1381 - accuracy: 0.9552 - mse: 0.0067 - val_loss: 0.1493 - val_accuracy: 0.9521 - val_mse: 0.0072\n",
      "Epoch 6/10\n",
      "886/886 [==============================] - 17s 19ms/step - loss: 0.1190 - accuracy: 0.9604 - mse: 0.0058 - val_loss: 0.1125 - val_accuracy: 0.9631 - val_mse: 0.0055\n",
      "Epoch 7/10\n",
      "886/886 [==============================] - 17s 19ms/step - loss: 0.1078 - accuracy: 0.9644 - mse: 0.0053 - val_loss: 0.1372 - val_accuracy: 0.9579 - val_mse: 0.0065\n",
      "Epoch 8/10\n",
      "886/886 [==============================] - 17s 19ms/step - loss: 0.0995 - accuracy: 0.9678 - mse: 0.0048 - val_loss: 0.1181 - val_accuracy: 0.9647 - val_mse: 0.0056\n",
      "Epoch 9/10\n",
      "886/886 [==============================] - 18s 21ms/step - loss: 0.0900 - accuracy: 0.9701 - mse: 0.0044 - val_loss: 0.0993 - val_accuracy: 0.9673 - val_mse: 0.0048\n",
      "Epoch 10/10\n",
      "886/886 [==============================] - 20s 23ms/step - loss: 0.0827 - accuracy: 0.9723 - mse: 0.0041 - val_loss: 0.0969 - val_accuracy: 0.9702 - val_mse: 0.0046\n"
     ]
    }
   ],
   "source": [
    "'''\n",
    "    The fit() call returns a \"history\" object which records what happened over the course of training. \n",
    "    The history.history dict contains per-epoch timeseries of metrics values \n",
    "'''\n",
    "history = model.fit(X_train, Y_train, batch_size=32, epochs=10, verbose=1,\n",
    "                    validation_split=0.25, validation_freq=1)"
   ]
  },
  {
   "cell_type": "code",
   "execution_count": 27,
   "metadata": {},
   "outputs": [
    {
     "data": {
      "image/png": "[encoded data removed]",
      "text/plain": [
       "<Figure size 1080x360 with 2 Axes>"
      ]
     },
     "metadata": {
      "needs_background": "light"
     },
     "output_type": "display_data"
    }
   ],
   "source": [
    "def plot_metrics(hist):\n",
    "    train_loss = hist.history['loss']\n",
    "    val_loss = hist.history['val_loss']\n",
    "    train_acc = hist.history['accuracy']\n",
    "    val_acc = hist.history['val_accuracy']\n",
    "\n",
    "    fig, (ax1,ax2) = plt.subplots(1, 2)\n",
    "    fig.set_figwidth(15)\n",
    "    fig.set_figheight(5)\n",
    "    \n",
    "    ax1.set_xlabel('Epoch')\n",
    "    ax1.set_ylabel('Loss')\n",
    "    ax1.plot(train_loss, 'r')\n",
    "    ax1.plot(val_loss, 'b')\n",
    "    ax1.legend(['Train Loss', 'Validation Loss'])\n",
    "\n",
    "    ax2.set_xlabel('Epoch')\n",
    "    ax2.set_ylabel('Accuracy')\n",
    "    ax2.set_ylim(0.5,1)\n",
    "    ax2.plot(train_acc, 'r')\n",
    "    ax2.plot(val_acc, 'b')\n",
    "    ax2.legend(['Train Accuracy', 'Validation Accuracy'])\n",
    "        \n",
    "plot_metrics(history)"
   ]
  },
  {
   "cell_type": "code",
   "execution_count": 28,
   "metadata": {},
   "outputs": [
    {
     "name": "stdout",
     "output_type": "stream",
     "text": [
      "132/132 [==============================] - 1s 8ms/step\n"
     ]
    }
   ],
   "source": [
    "y_pred = model.predict(X_val)"
   ]
  },
  {
   "cell_type": "code",
   "execution_count": 29,
   "metadata": {},
   "outputs": [
    {
     "data": {
      "text/plain": [
       "0.9707142857142858"
      ]
     },
     "execution_count": 29,
     "metadata": {},
     "output_type": "execute_result"
    }
   ],
   "source": [
    "diff = np.argmax(y_pred, axis=1) - np.argmax(Y_val, axis=1)\n",
    "incorrect_pred = np.count_nonzero(diff)\n",
    "\n",
    "acc = 1-(incorrect_pred/X_val.shape[0]) \n",
    "acc"
   ]
  },
  {
   "cell_type": "code",
   "execution_count": 30,
   "metadata": {},
   "outputs": [
    {
     "data": {
      "image/png": "[encoded data removed]",
      "text/plain": [
       "<Figure size 432x288 with 1 Axes>"
      ]
     },
     "metadata": {
      "needs_background": "light"
     },
     "output_type": "display_data"
    }
   ],
   "source": [
    "def normalize_ypred(y):\n",
    "    y_hot = np.zeros(y.shape)\n",
    "    count=0\n",
    "    for val in np.argmax(y, axis=1):\n",
    "        y_hot[count][val] = 1\n",
    "        count += 1\n",
    "    return y_hot\n",
    "\n",
    "y_pred_f = normalize_ypred(y_pred)\n",
    "y_pred_f\n",
    "conf_matrix = confusion_matrix(np.argmax(Y_val, axis=1), np.argmax(y_pred_f, axis=1))\n",
    "\n",
    "def plt_confusion_matrix(cm, n=range(10), cmap=plt.cm.Blues):\n",
    "    plt.imshow(conf_matrix, cmap=cmap)\n",
    "    plt.title('Confusion Matrix')\n",
    "    plt.xticks(n, rotation=45)\n",
    "    plt.yticks(n)\n",
    "\n",
    "    for i in range(cm.shape[0]):\n",
    "        for j in range(cm.shape[1]):\n",
    "            plt.text(j, i, cm[i][j], fontweight='semibold', \n",
    "                        horizontalalignment='center', \n",
    "                        verticalalignment='center', fontsize=10)\n",
    "\n",
    "plt_confusion_matrix(conf_matrix)"
   ]
  },
  {
   "cell_type": "code",
   "execution_count": 34,
   "metadata": {},
   "outputs": [
    {
     "name": "stdout",
     "output_type": "stream",
     "text": [
      "              precision    recall  f1-score   support\n",
      "\n",
      "           0       0.98      0.99      0.99       405\n",
      "           1       0.99      0.98      0.99       484\n",
      "           2       0.95      0.98      0.97       437\n",
      "           3       0.98      0.95      0.96       433\n",
      "           4       0.96      0.98      0.97       405\n",
      "           5       0.98      0.97      0.97       377\n",
      "           6       0.98      0.98      0.98       421\n",
      "           7       0.97      0.97      0.97       456\n",
      "           8       0.97      0.94      0.95       382\n",
      "           9       0.95      0.95      0.95       400\n",
      "\n",
      "   micro avg       0.97      0.97      0.97      4200\n",
      "   macro avg       0.97      0.97      0.97      4200\n",
      "weighted avg       0.97      0.97      0.97      4200\n",
      " samples avg       0.97      0.97      0.97      4200\n",
      "\n"
     ]
    }
   ],
   "source": [
    "print(classification_report(Y_val, y_pred_f))"
   ]
  },
  {
   "cell_type": "code",
   "execution_count": 62,
   "metadata": {},
   "outputs": [],
   "source": [
    "array_to_image(X_val[100]*255.0)"
   ]
  },
  {
   "cell_type": "code",
   "execution_count": 63,
   "metadata": {},
   "outputs": [
    {
     "ename": "InvalidArgumentError",
     "evalue": "Graph execution error:\n\nDetected at node 'mnist_model/Conv2D_1/BiasAdd' defined at (most recent call last):\n    File \"c:\\Users\\amish\\AppData\\Local\\Programs\\Python\\Python310\\lib\\runpy.py\", line 196, in _run_module_as_main\n      return _run_code(code, main_globals, None,\n    File \"c:\\Users\\amish\\AppData\\Local\\Programs\\Python\\Python310\\lib\\runpy.py\", line 86, in _run_code\n      exec(code, run_globals)\n    File \"c:\\Users\\amish\\AppData\\Local\\Programs\\Python\\Python310\\lib\\site-packages\\ipykernel_launcher.py\", line 17, in <module>\n      app.launch_new_instance()\n    File \"c:\\Users\\amish\\AppData\\Local\\Programs\\Python\\Python310\\lib\\site-packages\\traitlets\\config\\application.py\", line 976, in launch_instance\n      app.start()\n    File \"c:\\Users\\amish\\AppData\\Local\\Programs\\Python\\Python310\\lib\\site-packages\\ipykernel\\kernelapp.py\", line 712, in start\n      self.io_loop.start()\n    File \"c:\\Users\\amish\\AppData\\Local\\Programs\\Python\\Python310\\lib\\site-packages\\tornado\\platform\\asyncio.py\", line 215, in start\n      self.asyncio_loop.run_forever()\n    File \"c:\\Users\\amish\\AppData\\Local\\Programs\\Python\\Python310\\lib\\asyncio\\base_events.py\", line 600, in run_forever\n      self._run_once()\n    File \"c:\\Users\\amish\\AppData\\Local\\Programs\\Python\\Python310\\lib\\asyncio\\base_events.py\", line 1896, in _run_once\n      handle._run()\n    File \"c:\\Users\\amish\\AppData\\Local\\Programs\\Python\\Python310\\lib\\asyncio\\events.py\", line 80, in _run\n      self._context.run(self._callback, *self._args)\n    File \"c:\\Users\\amish\\AppData\\Local\\Programs\\Python\\Python310\\lib\\site-packages\\ipykernel\\kernelbase.py\", line 510, in dispatch_queue\n      await self.process_one()\n    File \"c:\\Users\\amish\\AppData\\Local\\Programs\\Python\\Python310\\lib\\site-packages\\ipykernel\\kernelbase.py\", line 499, in process_one\n      await dispatch(*args)\n    File \"c:\\Users\\amish\\AppData\\Local\\Programs\\Python\\Python310\\lib\\site-packages\\ipykernel\\kernelbase.py\", line 406, in dispatch_shell\n      await result\n    File \"c:\\Users\\amish\\AppData\\Local\\Programs\\Python\\Python310\\lib\\site-packages\\ipykernel\\kernelbase.py\", line 730, in execute_request\n      reply_content = await reply_content\n    File \"c:\\Users\\amish\\AppData\\Local\\Programs\\Python\\Python310\\lib\\site-packages\\ipykernel\\ipkernel.py\", line 383, in do_execute\n      res = shell.run_cell(\n    File \"c:\\Users\\amish\\AppData\\Local\\Programs\\Python\\Python310\\lib\\site-packages\\ipykernel\\zmqshell.py\", line 528, in run_cell\n      return super().run_cell(*args, **kwargs)\n    File \"c:\\Users\\amish\\AppData\\Local\\Programs\\Python\\Python310\\lib\\site-packages\\IPython\\core\\interactiveshell.py\", line 2881, in run_cell\n      result = self._run_cell(\n    File \"c:\\Users\\amish\\AppData\\Local\\Programs\\Python\\Python310\\lib\\site-packages\\IPython\\core\\interactiveshell.py\", line 2936, in _run_cell\n      return runner(coro)\n    File \"c:\\Users\\amish\\AppData\\Local\\Programs\\Python\\Python310\\lib\\site-packages\\IPython\\core\\async_helpers.py\", line 129, in _pseudo_sync_runner\n      coro.send(None)\n    File \"c:\\Users\\amish\\AppData\\Local\\Programs\\Python\\Python310\\lib\\site-packages\\IPython\\core\\interactiveshell.py\", line 3135, in run_cell_async\n      has_raised = await self.run_ast_nodes(code_ast.body, cell_name,\n    File \"c:\\Users\\amish\\AppData\\Local\\Programs\\Python\\Python310\\lib\\site-packages\\IPython\\core\\interactiveshell.py\", line 3338, in run_ast_nodes\n      if await self.run_code(code, result, async_=asy):\n    File \"c:\\Users\\amish\\AppData\\Local\\Programs\\Python\\Python310\\lib\\site-packages\\IPython\\core\\interactiveshell.py\", line 3398, in run_code\n      exec(code_obj, self.user_global_ns, self.user_ns)\n    File \"C:\\Users\\amish\\AppData\\Local\\Temp\\ipykernel_3288\\3572622506.py\", line 1, in <cell line: 1>\n      model.predict(X_val[1])\n    File \"c:\\Users\\amish\\AppData\\Local\\Programs\\Python\\Python310\\lib\\site-packages\\keras\\utils\\traceback_utils.py\", line 64, in error_handler\n      return fn(*args, **kwargs)\n    File \"c:\\Users\\amish\\AppData\\Local\\Programs\\Python\\Python310\\lib\\site-packages\\keras\\engine\\training.py\", line 2033, in predict\n      tmp_batch_outputs = self.predict_function(iterator)\n    File \"c:\\Users\\amish\\AppData\\Local\\Programs\\Python\\Python310\\lib\\site-packages\\keras\\engine\\training.py\", line 1845, in predict_function\n      return step_function(self, iterator)\n    File \"c:\\Users\\amish\\AppData\\Local\\Programs\\Python\\Python310\\lib\\site-packages\\keras\\engine\\training.py\", line 1834, in step_function\n      outputs = model.distribute_strategy.run(run_step, args=(data,))\n    File \"c:\\Users\\amish\\AppData\\Local\\Programs\\Python\\Python310\\lib\\site-packages\\keras\\engine\\training.py\", line 1823, in run_step\n      outputs = model.predict_step(data)\n    File \"c:\\Users\\amish\\AppData\\Local\\Programs\\Python\\Python310\\lib\\site-packages\\keras\\engine\\training.py\", line 1791, in predict_step\n      return self(x, training=False)\n    File \"c:\\Users\\amish\\AppData\\Local\\Programs\\Python\\Python310\\lib\\site-packages\\keras\\utils\\traceback_utils.py\", line 64, in error_handler\n      return fn(*args, **kwargs)\n    File \"c:\\Users\\amish\\AppData\\Local\\Programs\\Python\\Python310\\lib\\site-packages\\keras\\engine\\training.py\", line 490, in __call__\n      return super().__call__(*args, **kwargs)\n    File \"c:\\Users\\amish\\AppData\\Local\\Programs\\Python\\Python310\\lib\\site-packages\\keras\\utils\\traceback_utils.py\", line 64, in error_handler\n      return fn(*args, **kwargs)\n    File \"c:\\Users\\amish\\AppData\\Local\\Programs\\Python\\Python310\\lib\\site-packages\\keras\\engine\\base_layer.py\", line 1014, in __call__\n      outputs = call_fn(inputs, *args, **kwargs)\n    File \"c:\\Users\\amish\\AppData\\Local\\Programs\\Python\\Python310\\lib\\site-packages\\keras\\utils\\traceback_utils.py\", line 92, in error_handler\n      return fn(*args, **kwargs)\n    File \"c:\\Users\\amish\\AppData\\Local\\Programs\\Python\\Python310\\lib\\site-packages\\keras\\engine\\functional.py\", line 458, in call\n      return self._run_internal_graph(\n    File \"c:\\Users\\amish\\AppData\\Local\\Programs\\Python\\Python310\\lib\\site-packages\\keras\\engine\\functional.py\", line 596, in _run_internal_graph\n      outputs = node.layer(*args, **kwargs)\n    File \"c:\\Users\\amish\\AppData\\Local\\Programs\\Python\\Python310\\lib\\site-packages\\keras\\utils\\traceback_utils.py\", line 64, in error_handler\n      return fn(*args, **kwargs)\n    File \"c:\\Users\\amish\\AppData\\Local\\Programs\\Python\\Python310\\lib\\site-packages\\keras\\engine\\base_layer.py\", line 1014, in __call__\n      outputs = call_fn(inputs, *args, **kwargs)\n    File \"c:\\Users\\amish\\AppData\\Local\\Programs\\Python\\Python310\\lib\\site-packages\\keras\\utils\\traceback_utils.py\", line 92, in error_handler\n      return fn(*args, **kwargs)\n    File \"c:\\Users\\amish\\AppData\\Local\\Programs\\Python\\Python310\\lib\\site-packages\\keras\\layers\\convolutional\\base_conv.py\", line 269, in call\n      outputs = tf.nn.bias_add(\nNode: 'mnist_model/Conv2D_1/BiasAdd'\ninput must be 4-dimensional[28,28,1]\n\t [[{{node mnist_model/Conv2D_1/BiasAdd}}]] [Op:__inference_predict_function_122645]",
     "output_type": "error",
     "traceback": [
      "\u001b[1;31m---------------------------------------------------------------------------\u001b[0m",
      "\u001b[1;31mInvalidArgumentError\u001b[0m                      Traceback (most recent call last)",
      "\u001b[1;32mc:\\Users\\amish\\Desktop\\PYTHON\\Deep Learning\\mnist_model.ipynb Cell 12\u001b[0m in \u001b[0;36m<cell line: 1>\u001b[1;34m()\u001b[0m\n\u001b[1;32m----> <a href='vscode-notebook-cell:/c%3A/Users/amish/Desktop/PYTHON/Deep%20Learning/mnist_model.ipynb#X15sZmlsZQ%3D%3D?line=0'>1</a>\u001b[0m model\u001b[39m.\u001b[39;49mpredict(X_val[\u001b[39m100\u001b[39;49m])\n",
      "File \u001b[1;32mc:\\Users\\amish\\AppData\\Local\\Programs\\Python\\Python310\\lib\\site-packages\\keras\\utils\\traceback_utils.py:67\u001b[0m, in \u001b[0;36mfilter_traceback.<locals>.error_handler\u001b[1;34m(*args, **kwargs)\u001b[0m\n\u001b[0;32m     65\u001b[0m \u001b[39mexcept\u001b[39;00m \u001b[39mException\u001b[39;00m \u001b[39mas\u001b[39;00m e:  \u001b[39m# pylint: disable=broad-except\u001b[39;00m\n\u001b[0;32m     66\u001b[0m   filtered_tb \u001b[39m=\u001b[39m _process_traceback_frames(e\u001b[39m.\u001b[39m__traceback__)\n\u001b[1;32m---> 67\u001b[0m   \u001b[39mraise\u001b[39;00m e\u001b[39m.\u001b[39mwith_traceback(filtered_tb) \u001b[39mfrom\u001b[39;00m \u001b[39mNone\u001b[39m\n\u001b[0;32m     68\u001b[0m \u001b[39mfinally\u001b[39;00m:\n\u001b[0;32m     69\u001b[0m   \u001b[39mdel\u001b[39;00m filtered_tb\n",
      "File \u001b[1;32mc:\\Users\\amish\\AppData\\Local\\Programs\\Python\\Python310\\lib\\site-packages\\tensorflow\\python\\eager\\execute.py:54\u001b[0m, in \u001b[0;36mquick_execute\u001b[1;34m(op_name, num_outputs, inputs, attrs, ctx, name)\u001b[0m\n\u001b[0;32m     52\u001b[0m \u001b[39mtry\u001b[39;00m:\n\u001b[0;32m     53\u001b[0m   ctx\u001b[39m.\u001b[39mensure_initialized()\n\u001b[1;32m---> 54\u001b[0m   tensors \u001b[39m=\u001b[39m pywrap_tfe\u001b[39m.\u001b[39mTFE_Py_Execute(ctx\u001b[39m.\u001b[39m_handle, device_name, op_name,\n\u001b[0;32m     55\u001b[0m                                       inputs, attrs, num_outputs)\n\u001b[0;32m     56\u001b[0m \u001b[39mexcept\u001b[39;00m core\u001b[39m.\u001b[39m_NotOkStatusException \u001b[39mas\u001b[39;00m e:\n\u001b[0;32m     57\u001b[0m   \u001b[39mif\u001b[39;00m name \u001b[39mis\u001b[39;00m \u001b[39mnot\u001b[39;00m \u001b[39mNone\u001b[39;00m:\n",
      "\u001b[1;31mInvalidArgumentError\u001b[0m: Graph execution error:\n\nDetected at node 'mnist_model/Conv2D_1/BiasAdd' defined at (most recent call last):\n    File \"c:\\Users\\amish\\AppData\\Local\\Programs\\Python\\Python310\\lib\\runpy.py\", line 196, in _run_module_as_main\n      return _run_code(code, main_globals, None,\n    File \"c:\\Users\\amish\\AppData\\Local\\Programs\\Python\\Python310\\lib\\runpy.py\", line 86, in _run_code\n      exec(code, run_globals)\n    File \"c:\\Users\\amish\\AppData\\Local\\Programs\\Python\\Python310\\lib\\site-packages\\ipykernel_launcher.py\", line 17, in <module>\n      app.launch_new_instance()\n    File \"c:\\Users\\amish\\AppData\\Local\\Programs\\Python\\Python310\\lib\\site-packages\\traitlets\\config\\application.py\", line 976, in launch_instance\n      app.start()\n    File \"c:\\Users\\amish\\AppData\\Local\\Programs\\Python\\Python310\\lib\\site-packages\\ipykernel\\kernelapp.py\", line 712, in start\n      self.io_loop.start()\n    File \"c:\\Users\\amish\\AppData\\Local\\Programs\\Python\\Python310\\lib\\site-packages\\tornado\\platform\\asyncio.py\", line 215, in start\n      self.asyncio_loop.run_forever()\n    File \"c:\\Users\\amish\\AppData\\Local\\Programs\\Python\\Python310\\lib\\asyncio\\base_events.py\", line 600, in run_forever\n      self._run_once()\n    File \"c:\\Users\\amish\\AppData\\Local\\Programs\\Python\\Python310\\lib\\asyncio\\base_events.py\", line 1896, in _run_once\n      handle._run()\n    File \"c:\\Users\\amish\\AppData\\Local\\Programs\\Python\\Python310\\lib\\asyncio\\events.py\", line 80, in _run\n      self._context.run(self._callback, *self._args)\n    File \"c:\\Users\\amish\\AppData\\Local\\Programs\\Python\\Python310\\lib\\site-packages\\ipykernel\\kernelbase.py\", line 510, in dispatch_queue\n      await self.process_one()\n    File \"c:\\Users\\amish\\AppData\\Local\\Programs\\Python\\Python310\\lib\\site-packages\\ipykernel\\kernelbase.py\", line 499, in process_one\n      await dispatch(*args)\n    File \"c:\\Users\\amish\\AppData\\Local\\Programs\\Python\\Python310\\lib\\site-packages\\ipykernel\\kernelbase.py\", line 406, in dispatch_shell\n      await result\n    File \"c:\\Users\\amish\\AppData\\Local\\Programs\\Python\\Python310\\lib\\site-packages\\ipykernel\\kernelbase.py\", line 730, in execute_request\n      reply_content = await reply_content\n    File \"c:\\Users\\amish\\AppData\\Local\\Programs\\Python\\Python310\\lib\\site-packages\\ipykernel\\ipkernel.py\", line 383, in do_execute\n      res = shell.run_cell(\n    File \"c:\\Users\\amish\\AppData\\Local\\Programs\\Python\\Python310\\lib\\site-packages\\ipykernel\\zmqshell.py\", line 528, in run_cell\n      return super().run_cell(*args, **kwargs)\n    File \"c:\\Users\\amish\\AppData\\Local\\Programs\\Python\\Python310\\lib\\site-packages\\IPython\\core\\interactiveshell.py\", line 2881, in run_cell\n      result = self._run_cell(\n    File \"c:\\Users\\amish\\AppData\\Local\\Programs\\Python\\Python310\\lib\\site-packages\\IPython\\core\\interactiveshell.py\", line 2936, in _run_cell\n      return runner(coro)\n    File \"c:\\Users\\amish\\AppData\\Local\\Programs\\Python\\Python310\\lib\\site-packages\\IPython\\core\\async_helpers.py\", line 129, in _pseudo_sync_runner\n      coro.send(None)\n    File \"c:\\Users\\amish\\AppData\\Local\\Programs\\Python\\Python310\\lib\\site-packages\\IPython\\core\\interactiveshell.py\", line 3135, in run_cell_async\n      has_raised = await self.run_ast_nodes(code_ast.body, cell_name,\n    File \"c:\\Users\\amish\\AppData\\Local\\Programs\\Python\\Python310\\lib\\site-packages\\IPython\\core\\interactiveshell.py\", line 3338, in run_ast_nodes\n      if await self.run_code(code, result, async_=asy):\n    File \"c:\\Users\\amish\\AppData\\Local\\Programs\\Python\\Python310\\lib\\site-packages\\IPython\\core\\interactiveshell.py\", line 3398, in run_code\n      exec(code_obj, self.user_global_ns, self.user_ns)\n    File \"C:\\Users\\amish\\AppData\\Local\\Temp\\ipykernel_3288\\3572622506.py\", line 1, in <cell line: 1>\n      model.predict(X_val[1])\n    File \"c:\\Users\\amish\\AppData\\Local\\Programs\\Python\\Python310\\lib\\site-packages\\keras\\utils\\traceback_utils.py\", line 64, in error_handler\n      return fn(*args, **kwargs)\n    File \"c:\\Users\\amish\\AppData\\Local\\Programs\\Python\\Python310\\lib\\site-packages\\keras\\engine\\training.py\", line 2033, in predict\n      tmp_batch_outputs = self.predict_function(iterator)\n    File \"c:\\Users\\amish\\AppData\\Local\\Programs\\Python\\Python310\\lib\\site-packages\\keras\\engine\\training.py\", line 1845, in predict_function\n      return step_function(self, iterator)\n    File \"c:\\Users\\amish\\AppData\\Local\\Programs\\Python\\Python310\\lib\\site-packages\\keras\\engine\\training.py\", line 1834, in step_function\n      outputs = model.distribute_strategy.run(run_step, args=(data,))\n    File \"c:\\Users\\amish\\AppData\\Local\\Programs\\Python\\Python310\\lib\\site-packages\\keras\\engine\\training.py\", line 1823, in run_step\n      outputs = model.predict_step(data)\n    File \"c:\\Users\\amish\\AppData\\Local\\Programs\\Python\\Python310\\lib\\site-packages\\keras\\engine\\training.py\", line 1791, in predict_step\n      return self(x, training=False)\n    File \"c:\\Users\\amish\\AppData\\Local\\Programs\\Python\\Python310\\lib\\site-packages\\keras\\utils\\traceback_utils.py\", line 64, in error_handler\n      return fn(*args, **kwargs)\n    File \"c:\\Users\\amish\\AppData\\Local\\Programs\\Python\\Python310\\lib\\site-packages\\keras\\engine\\training.py\", line 490, in __call__\n      return super().__call__(*args, **kwargs)\n    File \"c:\\Users\\amish\\AppData\\Local\\Programs\\Python\\Python310\\lib\\site-packages\\keras\\utils\\traceback_utils.py\", line 64, in error_handler\n      return fn(*args, **kwargs)\n    File \"c:\\Users\\amish\\AppData\\Local\\Programs\\Python\\Python310\\lib\\site-packages\\keras\\engine\\base_layer.py\", line 1014, in __call__\n      outputs = call_fn(inputs, *args, **kwargs)\n    File \"c:\\Users\\amish\\AppData\\Local\\Programs\\Python\\Python310\\lib\\site-packages\\keras\\utils\\traceback_utils.py\", line 92, in error_handler\n      return fn(*args, **kwargs)\n    File \"c:\\Users\\amish\\AppData\\Local\\Programs\\Python\\Python310\\lib\\site-packages\\keras\\engine\\functional.py\", line 458, in call\n      return self._run_internal_graph(\n    File \"c:\\Users\\amish\\AppData\\Local\\Programs\\Python\\Python310\\lib\\site-packages\\keras\\engine\\functional.py\", line 596, in _run_internal_graph\n      outputs = node.layer(*args, **kwargs)\n    File \"c:\\Users\\amish\\AppData\\Local\\Programs\\Python\\Python310\\lib\\site-packages\\keras\\utils\\traceback_utils.py\", line 64, in error_handler\n      return fn(*args, **kwargs)\n    File \"c:\\Users\\amish\\AppData\\Local\\Programs\\Python\\Python310\\lib\\site-packages\\keras\\engine\\base_layer.py\", line 1014, in __call__\n      outputs = call_fn(inputs, *args, **kwargs)\n    File \"c:\\Users\\amish\\AppData\\Local\\Programs\\Python\\Python310\\lib\\site-packages\\keras\\utils\\traceback_utils.py\", line 92, in error_handler\n      return fn(*args, **kwargs)\n    File \"c:\\Users\\amish\\AppData\\Local\\Programs\\Python\\Python310\\lib\\site-packages\\keras\\layers\\convolutional\\base_conv.py\", line 269, in call\n      outputs = tf.nn.bias_add(\nNode: 'mnist_model/Conv2D_1/BiasAdd'\ninput must be 4-dimensional[28,28,1]\n\t [[{{node mnist_model/Conv2D_1/BiasAdd}}]] [Op:__inference_predict_function_122645]"
     ]
    }
   ],
   "source": [
    "model.predict(X_val[100])"
   ]
  },
  {
   "cell_type": "code",
   "execution_count": null,
   "metadata": {},
   "outputs": [],
   "source": []
  }
 ],
 "metadata": {
  "kernelspec": {
   "display_name": "Python 3.10.5 64-bit",
   "language": "python",
   "name": "python3"
  },
  "language_info": {
   "codemirror_mode": {
    "name": "ipython",
    "version": 3
   },
   "file_extension": ".py",
   "mimetype": "text/x-python",
   "name": "python",
   "nbconvert_exporter": "python",
   "pygments_lexer": "ipython3",
   "version": "3.10.5"
  },
  "orig_nbformat": 4,
  "vscode": {
   "interpreter": {
    "hash": "f44cb691370c8be321e25e67bb947c69f9f6cf89a0c8d64b9edcdc72946cefc9"
   }
  }
 },
 "nbformat": 4,
 "nbformat_minor": 2
}
